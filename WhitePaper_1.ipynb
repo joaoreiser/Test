{
 "cells": [
  {
   "cell_type": "markdown",
   "metadata": {},
   "source": [
    "#  An Analysis of the Probability of Demission Request using Logistic Regression in TensorFlow"
   ]
  },
  {
   "cell_type": "markdown",
   "metadata": {
    "collapsed": true
   },
   "source": [
    "## 1. Introduction:"
   ]
  },
  {
   "attachments": {},
   "cell_type": "markdown",
   "metadata": {},
   "source": [
    "![image2](/Test/images/image2.png)"
    "Nowadays, several companies possess a database with informations about their employes. With an appropriated analysis of this data is possible to identify the profile of the employes and with this information make predictions about future demission requests.\n",
    "\n",
    "In this way, the RHAnalytics problem is defined, aiming to present which employees will tend to request for dismissal through the application of the Logistic Regression algorithm. In this sense, a real database is used, where the characteristics that are shown below are analyzed.\n",
    "\n",
    "\n",
    "- Green: Quantitative\n",
    "\n",
    "- Yellow: Qualitative\n",
    "\n",
    "- Orange: Output"
   ]
  },
  {
   "cell_type": "markdown",
   "metadata": {},
   "source": [
    "![image1](/Test/images/image1.png)"
   ]
  },
  {
   "cell_type": "markdown",
   "metadata": {},
   "source": [
    "To begin the process of development of the model, it is necessary to pre-process the data and to perform binarization of the contents of some features."
   ]
  },
  {
   "cell_type": "markdown",
   "metadata": {},
   "source": [
    "## 2. Logistic Regression\n",
    "### I. Principles of Operation"
   ]
  },
  {
   "cell_type": "markdown",
   "metadata": {},
   "source": [
    "Logistic Regression is an important and widely used tool for machine learning  and statistics. It is capable of perform classification when there are several independent variables that make influence in the output. Logistic Regression is in the class of techniques of supervised learning, where the input and output data are known. Other examples of supervised learning techniques are Neural Networks, Decision Trees, Bayesian Networks and Support Vector Machines.\n",
    "\n",
    "The name Logistic Regression is due to the fact of some similarities with the Linear Regression, but Logistic Regression doesn’t really perform regression (prediction of continuous values), but classification. Both of them are based on a function Y, where the inputs (X) are multiplied by weights (W) and them added to a constant value (b – bias)."
   ]
  },
  {
   "cell_type": "markdown",
   "metadata": {},
   "source": [
    "$$Y \\left ( x \\right ) = b_{0} + W_{1}X_{1} + ... + W_{p}X_{p}$$"
   ]
  },
  {
   "cell_type": "markdown",
   "metadata": {},
   "source": [
    "On Linear Regression the value provided by Y is the output of the model. On the other hand, in Logistic Regression the Y value is inserted in an activation function (sigmoid) where its value is converted into a probability P(Y)."
   ]
  },
  {
   "cell_type": "markdown",
   "metadata": {},
   "source": [
    "$$P \\left ( Y=1 \\right ) = \\frac{1}{1+e^{-Y \\left ( x \\right ) }}$$"
   ]
  },
  {
   "cell_type": "markdown",
   "metadata": {},
   "source": [
    "![image2](/Test/images/image2.png)"
   ]
  },
  {
   "cell_type": "markdown",
   "metadata": {},
   "source": [
    "### II. Implementation "
   ]
  },
  {
   "cell_type": "markdown",
   "metadata": {},
   "source": [
    "For the development and analysis of the solution with Logistic Regression, some frameworks for Machine Learning are used. This frameworks are available in the Intel Distribution for Python, a package capable of accelerate and scale the application performance.\n",
    "\n",
    "\n",
    "The most important framework for this application is TensorFlow, an open source software library for Machine Intelligence for numerical computation using data flow graphs.\n"
   ]
  },
  {
   "cell_type": "markdown",
   "metadata": {},
   "source": [
    "### 2.1 Importing Libraries\n",
    "\n",
    "- Pandas: is a Python package providing fast, flexible, and expressive data structures.\n",
    "- Numpy: is a fundamental package of the Python language that allows to work with arrays, vectors and matrices of N dimensions.\n",
    "- TensorFlow: is a symbolic math library.\n",
    "- Matplotlib: is a Python 2D plotting library.\n",
    "- Sklearn: is a library for data mining and data analysis.\n"
   ]
  },
  {
   "cell_type": "code",
   "execution_count": 1,
   "metadata": {
    "collapsed": true
   },
   "outputs": [],
   "source": [
    "import pandas as pd\n",
    "import numpy as np\n",
    "import tensorflow as tf\n",
    "import matplotlib.pyplot as plt\n",
    "from sklearn.model_selection import train_test_split"
   ]
  },
  {
   "cell_type": "markdown",
   "metadata": {},
   "source": [
    "### 2.2 Loading Data\n",
    "\n",
    "In this part, the dataset, presented in a .csv file, is opened and readed. All its content is attached to a variable. After that a Pandas's DataFrame is created with the data.\n",
    "The DataFrame is a 2-dimensional labeled data structure with columns of potentially different types. \n"
   ]
  },
  {
   "cell_type": "code",
   "execution_count": 2,
   "metadata": {
    "collapsed": true
   },
   "outputs": [],
   "source": [
    "d = pd.read_csv('rhanalytics.csv',delimiter=';')\n",
    "data = pd.DataFrame(d)"
   ]
  },
  {
   "cell_type": "markdown",
   "metadata": {},
   "source": [
    "### 2.3  Pre-processing\n",
    "\n",
    "The first step to apply the Logistic Regression consists of the pre-processing of the data. Some of the characteristics derived from the used dataset contains values that the classification model cannot process (qualitative) or that need refinement. For this purpose, it is used the Pandas library, which presents suitable methods for the treatment of the data.\n"
   ]
  },
  {
   "cell_type": "code",
   "execution_count": 3,
   "metadata": {
    "collapsed": true
   },
   "outputs": [],
   "source": [
    "data = data.drop('Id', 1)\n",
    "\n",
    "data['Civil_Casado'] = data['CivilStatus'] == 'United'\n",
    "data['Civil_Solteiro'] = data['CivilStatus'] == 'Single'\n",
    "data['Civil_Separado'] = data['CivilStatus'] == 'Desunited'\n",
    "\n",
    "data = data.drop('CivilStatus', 1)\n",
    "\n",
    "data['Contrato_1'] = data['ContractType'] == 1\n",
    "data['Contrato_10'] = data['ContractType'] == 10\n",
    "\n",
    "data = data.drop('ContractType', 1)\n",
    "\n",
    "data['HadPromotion'] = data['HadPromotion'].map({'Yes': 1, 'No': 0})\n",
    "data['Insalubrity'] = data['Insalubrity'].map({'Yes': 1, 'No': 0})\n",
    "data['Periculosity'] = data['Periculosity'].map({'Yes': 1, 'No': 0})\n",
    "data['UnionMember'] = data['UnionMember'].map({'Yes': 1, 'No': 0})\n",
    "data['Stability'] = data['Stability'].map({'Yes': 1, 'No': 0})\n",
    "data['HasDependents'] = data['HasDependents'].map({'Yes': 1, 'No': 0})\n",
    "data['Attrition'] = data['Attrition'].map({'Yes': 1, 'No': 0})"
   ]
  },
  {
   "cell_type": "markdown",
   "metadata": {},
   "source": [
    "### 2.4 Data Splitting\n",
    "\n",
    "When training a machine learning model, it is important to perform the accuracy check during or after training. For this purpose, the cross-validation technique can be used. It is the separation of the dataset into 2 parts, one for training and another for validation. The data for each set must be unique.\n",
    "\n",
    "In this application the cross-validation method used is the holdout, where the data is separated before the training and maintained throughout the process. As the partitioning of the data occurs in a random and different way in each execution, variations of accuracy can occur in the final result."
   ]
  },
  {
   "cell_type": "code",
   "execution_count": 4,
   "metadata": {
    "collapsed": true
   },
   "outputs": [],
   "source": [
    "train, test = train_test_split(data, test_size=0.3)\n",
    "\n",
    "trainY = train['Attrition']\n",
    "trainX = train.drop('Attrition', 1)\n",
    "testY = test['Attrition']\n",
    "testX = test.drop('Attrition', 1)\n",
    "\n",
    "temp = trainY.shape\n",
    "trainY = trainY.values.reshape(temp[0], 1)\n",
    "temp = testY.shape\n",
    "testY = testY.values.reshape(temp[0], 1)\n",
    "testX = np.array(testX)"
   ]
  },
  {
   "cell_type": "markdown",
   "metadata": {},
   "source": [
    "\n",
    "After pre-processing, the information is allocated in Numpy arrays. The resulting data are separated into 4 parts, which are input and output for training and input and output for testing.\n",
    "\n",
    "The next step is the construction of the classifier model. Before this, it is interesting to define the size of the inputs and outputs of the system, as well as a number of training epochs. This prior definition allows future changes to be easily made.\n"
   ]
  },
  {
   "cell_type": "code",
   "execution_count": 5,
   "metadata": {
    "collapsed": true
   },
   "outputs": [],
   "source": [
    "n_out = 1\n",
    "n_in = 20\n",
    "epochs = 200"
   ]
  },
  {
   "cell_type": "markdown",
   "metadata": {},
   "source": [
    "### 2.5 Model Specification\n",
    "\n",
    "To start the specification of the model, it is necessary to define the points of entry and exit of the data, these being characterized in Tensorflow by the tf.placeholder. At this point, you define the type and format of the data that will be used. \n",
    "\n",
    "In the sequence, the variables of weights (W) and bias (b) are created. In Tensorflow, the tf.variable command is used to perform this task. Along with this procedure, it is important to define the initial values of these variables, which can be zero, one or random. \n",
    "\n",
    "After this procedure, the template must be specified. Using the methods available in Tensorflow (tf.add / tf.matmul) it is possible to add to the code the formula presented at the beginning of the text. Each operation performed using TensorFlow methods generates a node, and the connection of all this nodes is called a Graph.\n"
   ]
  },
  {
   "cell_type": "code",
   "execution_count": 6,
   "metadata": {
    "collapsed": true
   },
   "outputs": [],
   "source": [
    "x = tf.placeholder('float', [None,n_in])\n",
    "y = tf.placeholder('float', [None,n_out])\n",
    "\n",
    "weights = tf.Variable(tf.ones([n_in, n_out]))\n",
    "bias = tf.Variable(tf.ones([n_out]))\n",
    "\n",
    "y_output = tf.add(tf.matmul(x, weights),bias)\n",
    "y_output_t = tf.sigmoid(y_output)"
   ]
  },
  {
   "cell_type": "markdown",
   "metadata": {},
   "source": [
    "### 2.6 Training Model"
   ]
  },
  {
   "cell_type": "markdown",
   "metadata": {},
   "source": [
    "\n",
    "Cost: The cost function is used to estimate the error between the created model and the desired output value. The calculation is done for all input data inserted in the training step and the result is the mean value of the errors, provided by the tf.reduce_mean method.\n",
    "\n",
    "\n",
    "\n",
    "Optimizer: The resulting value from the cost function is passed on to the optimizer so that it can adjust the parameters of the model. The parameters are contained in the variables weight and bias. In each training epoch, the error is calculated and a small adjustment is made to the values. The adjustment ratio is defined by the learning_rate parameter, whose value must be specified empirically. Very large values of learning_rate can cause the model to diverge, on the other hand, very small values will generate very slow training and the possibility of the model not converging to an optimal value.\n",
    "\n",
    "After specifying the model, it is necessary to define the cost function that will be used. As a cost function, the Cross-Entropy method was used, often used in classification problems. Tensorflow provides a Cross Entropy with integrated Sigmoid activation function."
   ]
  },
  {
   "cell_type": "code",
   "execution_count": 7,
   "metadata": {
    "collapsed": true
   },
   "outputs": [],
   "source": [
    "cost = tf.reduce_mean(tf.nn.sigmoid_cross_entropy_with_logits(logits=y_output, labels=y))"
   ]
  },
  {
   "cell_type": "markdown",
   "metadata": {},
   "source": [
    "It is also necessary to define the optimization function. Thus, among the various options available, the optimizer Adam was selected. It is a gradient descent optimizer that through a series of extra calculations performs accurate and smooth updates. In addition, it was the one that presented the best result in the application of the model."
   ]
  },
  {
   "cell_type": "code",
   "execution_count": 8,
   "metadata": {
    "collapsed": true
   },
   "outputs": [],
   "source": [
    "optimizer = tf.train.AdamOptimizer(learning_rate=0.05, beta1=0.9, beta2=0.99).minimize(cost)"
   ]
  },
  {
   "cell_type": "markdown",
   "metadata": {},
   "source": [
    "All the definitions made using the Tensorflow methods can not be executed directly, so, for the process of learning and verifying the model it is necessary to create a tf.Session.\n",
    "\n",
    "The first step inside the Session is the initialization of Tensorflow variables. Weights and bias variables cannot be used before this procedure.\n",
    "\n",
    "The training process must occur within tf.Session and can be executed as many epochs as necessary or until the system converges to the desired precision. For this, it's necessary to create a loop specifying the number of iterations. The optimization process must be executed at the same time that the training data is inserted (feed_dict) to the model through the placeholders.\n",
    "\n",
    "In the presented problem, both the optimizer and the cost function are executed together, in order to follow the evolution of the training process. If it is necessary, the execution can be splitted, one by each process. The value returned from the cost function, which is the average of the calculated errors, is then appended to a list.\n"
   ]
  },
  {
   "cell_type": "raw",
   "metadata": {},
   "source": [
    "with tf.Session() as sess:\n",
    "    sess.run(tf.global_variables_initializer())\n",
    "    costs = []\n",
    "    for i in range(epochs):        \n",
    "        _, c = sess.run([optimizer, cost], feed_dict={x: trainX, y: trainY})\n",
    "        costs.append(c)"
   ]
  },
  {
   "cell_type": "markdown",
   "metadata": {},
   "source": [
    "### 2.6 Execution of Test"
   ]
  },
  {
   "cell_type": "markdown",
   "metadata": {},
   "source": [
    "After completing the training, the cost values are plotted in the form of a time graph for better visualization. With this, it is possible to verify that the model has been successfully trained.\n",
    "\n",
    "To measure the accuracy of the trained model the opition made was for a manual verification instead of the possibility made available by the tool. For this, a loop is defined by the range of the amount of test data.\n",
    "\n",
    "As a result of the utilization of the Sigmoid activation function, which returns probability values ranging from 0 to 1, the binarization of the values is done to simplify the process of comparison between the obtained and expected values. The comparison is then made and the results are displayed."
   ]
  },
  {
   "cell_type": "code",
   "execution_count": 9,
   "metadata": {},
   "outputs": [
    {
     "data": {
      "image/png": "iVBORw0KGgoAAAANSUhEUgAAAXoAAAD8CAYAAAB5Pm/hAAAABHNCSVQICAgIfAhkiAAAAAlwSFlz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\n",
      "text/plain": [
       "<matplotlib.figure.Figure at 0x2a143239828>"
      ]
     },
     "metadata": {},
     "output_type": "display_data"
    },
    {
     "name": "stdout",
     "output_type": "stream",
     "text": [
      "Samples Well Classified: 515\n",
      "Samples Misclassified: 224\n",
      "Accuracy: 69.69 %\n"
     ]
    }
   ],
   "source": [
    "with tf.Session() as sess:\n",
    "    sess.run(tf.global_variables_initializer())\n",
    "    costs = []\n",
    "    for i in range(epochs):        \n",
    "        _, c = sess.run([optimizer, cost], feed_dict={x: trainX, y: trainY})\n",
    "        costs.append(c)\n",
    "\n",
    "    plt.plot(costs)\n",
    "    plt.show()\n",
    "        \n",
    "    wrong, right = 0, 0\n",
    "    \n",
    "    for i in range(len(testY)):\n",
    "        x_data = np.array([testX[i]])\n",
    "        a = sess.run(y_output_t, feed_dict={x:x_data})\n",
    "        \n",
    "        if(a >= 0.5): a = 1\n",
    "        else: a = 0        \n",
    "        if(a == testY[i]):right+=1\n",
    "        else:wrong+=1\n",
    "               \n",
    "    print('Samples Well Classified:',right)\n",
    "    print('Samples Misclassified:',wrong)   \n",
    "    print('Accuracy:','{:.2f}'.format(100*(right/(right+wrong))),'%')"
   ]
  },
  {
   "cell_type": "markdown",
   "metadata": {},
   "source": [
    "### III. Results Analysis "
   ]
  },
  {
   "cell_type": "markdown",
   "metadata": {},
   "source": [
    "The result obtained shows an accuracy around 70%, which for stochastic characteristic data can be considered satisfactory. The data considered for the construction of the model seem to describe with some precision the characteristic behavior of a person who may resign in the near future. Even so, it should be taken into account that external factors, not considered and difficult to measure, such as job satisfaction, other work proposals, need to move house, among others, are quite relevant to take a person to make such a decision.\n",
    "\n",
    "In this case, the Logistic Regression technique was used. As a possibility to try to achieve more expressive results, it would be possible to use other methods, such as Neural Networks, that allow for more embracing classifications."
   ]
  },
  {
   "cell_type": "code",
   "execution_count": null,
   "metadata": {
    "collapsed": true
   },
   "outputs": [],
   "source": []
  }
 ],
 "metadata": {
  "kernelspec": {
   "display_name": "Python 3",
   "language": "python",
   "name": "python3"
  },
  "language_info": {
   "codemirror_mode": {
    "name": "ipython",
    "version": 3
   },
   "file_extension": ".py",
   "mimetype": "text/x-python",
   "name": "python",
   "nbconvert_exporter": "python",
   "pygments_lexer": "ipython3",
   "version": "3.6.2"
  }
 },
 "nbformat": 4,
 "nbformat_minor": 2
}
